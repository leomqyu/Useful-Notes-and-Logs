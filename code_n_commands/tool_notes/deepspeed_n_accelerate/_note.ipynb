{
 "cells": [
  {
   "cell_type": "markdown",
   "id": "17d4ec8b",
   "metadata": {},
   "source": [
    "- ref: \n",
    "    1. https://www.youtube.com/watch?v=gXDsVcY8TXQ&t=2013s "
   ]
  },
  {
   "cell_type": "markdown",
   "id": "04306e09",
   "metadata": {},
   "source": [
    "# concepts\n",
    "1. "
   ]
  }
 ],
 "metadata": {
  "language_info": {
   "name": "python"
  }
 },
 "nbformat": 4,
 "nbformat_minor": 5
}
