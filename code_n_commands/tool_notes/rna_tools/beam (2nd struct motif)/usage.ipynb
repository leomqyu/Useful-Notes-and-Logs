{
 "cells": [
  {
   "cell_type": "markdown",
   "metadata": {},
   "source": [
    "documentation:  \n",
    "http://beam.uniroma2.it/documentation  \n",
    "https://github.com/noise42/beam  \n"
   ]
  },
  {
   "cell_type": "markdown",
   "metadata": {},
   "source": [
    "# notes\n",
    "\n",
    "1. The input is a fasta file and don't randomly space or newline, each new line has its meaning \n",
    "2. download and run the java code  \n",
    "   ```java\n",
    "   java -jar BEAM_release2.5.0.jar -f seq_ex1 -w 5 -W 20\n",
    "   ```\n",
    "3. visualize\n",
    "   ```bash\n",
    "   # change the original `post_analysis.py` file where all \n",
    "   python post_analysis.py  results/seq_ex1\n",
    "   ```"
   ]
  },
  {
   "cell_type": "code",
   "execution_count": null,
   "metadata": {
    "vscode": {
     "languageId": "plaintext"
    }
   },
   "outputs": [],
   "source": []
  }
 ],
 "metadata": {
  "language_info": {
   "name": "python"
  }
 },
 "nbformat": 4,
 "nbformat_minor": 2
}
