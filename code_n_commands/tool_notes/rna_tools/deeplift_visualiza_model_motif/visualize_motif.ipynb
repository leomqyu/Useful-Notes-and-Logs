{
 "cells": [
  {
   "cell_type": "markdown",
   "metadata": {},
   "source": [
    "# one-hot encode seq"
   ]
  },
  {
   "cell_type": "code",
   "execution_count": null,
   "metadata": {},
   "outputs": [],
   "source": [
    "import numpy as np\n",
    "\n",
    "\n",
    "def one_hot_encode_along_channel_axis(sequence):\n",
    "    '''\n",
    "    return:\n",
    "        shape (len, 4)\n",
    "    '''\n",
    "    to_return = np.zeros((len(sequence),4), dtype=np.int8)\n",
    "    seq_to_one_hot_fill_in_array(zeros_array=to_return, sequence=sequence, one_hot_axis=1)\n",
    "    return to_return\n",
    "\n",
    "def seq_to_one_hot_fill_in_array(zeros_array, sequence, one_hot_axis):\n",
    "    assert one_hot_axis==0 or one_hot_axis==1\n",
    "    if (one_hot_axis==0):\n",
    "        assert zeros_array.shape[1] == len(sequence)\n",
    "    elif (one_hot_axis==1): \n",
    "        assert zeros_array.shape[0] == len(sequence)\n",
    "\n",
    "    #will mutate zeros_array\n",
    "    for (i,char) in enumerate(sequence):\n",
    "        if (char==\"A\" or char==\"a\"):\n",
    "            char_idx = 0\n",
    "        elif (char==\"C\" or char==\"c\"):\n",
    "            char_idx = 1\n",
    "        elif (char==\"G\" or char==\"g\"):\n",
    "            char_idx = 2\n",
    "        elif (char==\"T\" or char==\"t\" or char==\"U\" or char==\"u\"):\n",
    "            char_idx = 3\n",
    "        elif (char==\"N\" or char==\"n\"):\n",
    "            continue #leave that pos as all 0's\n",
    "        else:\n",
    "            raise RuntimeError(\"Unsupported character: \"+str(char))\n",
    "        \n",
    "        if (one_hot_axis==0):\n",
    "            zeros_array[char_idx,i] = 1\n",
    "        elif (one_hot_axis==1):\n",
    "            zeros_array[i,char_idx] = 1\n",
    "            \n",
    "'''\n",
    "one seq at a time. each seq is \n",
    "'''\n",
    "onehot_data = np.array([one_hot_encode_along_channel_axis(seq) for seq in data.sequences])"
   ]
  },
  {
   "cell_type": "code",
   "execution_count": null,
   "metadata": {},
   "outputs": [],
   "source": [
    "\"\"\"simpler visualization\"\"\"\n",
    "\n",
    "#visualize scores + ground-truth locations of motifs\n",
    "%matplotlib inline\n",
    "from deeplift.visualization import viz_sequence\n",
    "\n",
    "method_name = 'grad_times_inp'      # don't care\n",
    "task = 0                            # don't care\n",
    "idx = 731   # idx of seq\n",
    "\n",
    "scores = method_to_task_to_scores[method_name][task]\n",
    "scores_for_idx = scores[idx]            # (seq_len, )\n",
    "\n",
    "original_onehot = onehot_data[idx]      # (seq_len, 4)\n",
    "\n",
    "scores_for_idx = original_onehot*scores_for_idx[:,None]     # (seq_len, 4)\n",
    "\n",
    "viz_sequence.plot_weights(scores_for_idx, subticks_frequency=10)"
   ]
  }
 ],
 "metadata": {
  "language_info": {
   "name": "python"
  }
 },
 "nbformat": 4,
 "nbformat_minor": 2
}
