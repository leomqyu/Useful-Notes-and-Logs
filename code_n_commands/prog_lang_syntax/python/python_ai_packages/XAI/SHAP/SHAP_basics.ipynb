{
 "cells": [
  {
   "cell_type": "markdown",
   "metadata": {},
   "source": [
    "# basic idea\n",
    "\n",
    "consider each feature as a player and the dataset as a team.  \n",
    "SHAP calculates the impact of every feature to the target variable (called shap value) using combinatorial calculus  \n",
    "and retraining the model over all the combination of features that contains the one we are considering.  \n",
    "The average absolute value of the impact of a feature against a target variable can be used as a measure of its importance."
   ]
  },
  {
   "cell_type": "markdown",
   "metadata": {},
   "source": [
    "# diff plots\n",
    "\n",
    "## 1. summary plot\n",
    "\n",
    "Summary plot is the plot of all shap values for all features and all values: \n",
    "\n",
    "<img src=\"imgs/sp.png\" alt=\"sp\" height=\"300\"/>\n",
    "\n",
    "Each point is a feature in a certain datum.  \n",
    "Diff rows are same feature from diff data (record). The features are sorted from the most important one to the less important (s5 is the most important).  \n",
    "In each row, higher the value of this feature, the more positive the impact on the target. The lower this value, the more negative the contribution.\n",
    "\n",
    "\n",
    "## 2. force plot\n",
    "\n",
    "Force plot show the shap value of all features in a single record (data)\n",
    "\n",
    "<img src=\"imgs/fp.png\" alt=\"fp\" height=\"150\"/>\n",
    "\n",
    "predicted value: the output of the record (113.90 in pic).  \n",
    "base value: is the average value of the target variable (outputs of model) across all the records (~108 in pic). \n",
    "\n",
    "Each stripe shows the impact of its feature in pushing the value of the target variable farther or closer to the base value.  \n",
    "Red stripes show that their features push the value towards higher values. Blue, lower.  \n",
    "The wider a stripe, the higher (in absolute value) the contribution.  \n",
    "The sum of these contributions pushes the value of the target variable from the vase value to the final, predicted value.\n"
   ]
  },
  {
   "cell_type": "markdown",
   "metadata": {},
   "source": [
    "# Example with sklearn neural network"
   ]
  },
  {
   "cell_type": "code",
   "execution_count": null,
   "metadata": {},
   "outputs": [],
   "source": [
    "import shap\n",
    "from sklearn.preprocessing import StandardScaler\n",
    "from sklearn.neural_network import MLPRegressor\n",
    "from sklearn.pipeline import make_pipeline\n",
    "\n",
    "from sklearn.datasets import load_diabetes\n",
    "from sklearn.model_selection import train_test_split\n",
    "\n",
    "'''data'''\n",
    "X,y = load_diabetes(return_X_y=True)\n",
    "features = load_diabetes()['feature_names']\n",
    "X_train, X_test, y_train, y_test = train_test_split(X, y, test_size=0.33, random_state=42)\n",
    "\n",
    "'''define and train model'''\n",
    "model = make_pipeline(\n",
    "    StandardScaler(),\n",
    "    MLPRegressor(hidden_layer_sizes=(5,),activation='logistic', max_iter=10000,learning_rate='invscaling',random_state=0)\n",
    ")\n",
    "\n",
    "model.fit(X_train,y_train)"
   ]
  },
  {
   "cell_type": "code",
   "execution_count": null,
   "metadata": {},
   "outputs": [],
   "source": [
    "\"\"\"shap\"\"\"\n",
    "\n",
    "'''first get an explainer object'''\n",
    "explainer = shap.KernelExplainer(model.predict,X_train)\n",
    "\n",
    "'''\n",
    "cal sharp value\n",
    "shap values are calculated resampling the training dataset and calculating the impact over these perturbations, so need to define how much samples to resample\n",
    "\n",
    "output: a (n_samples,n_features) numpy array. \n",
    "        Each element is the shap value of that feature of that record (shap values are calculated for each feature and for each record)\n",
    "'''\n",
    "shap_values = explainer.shap_values(X_test,nsamples=100)\n",
    "\n",
    "\n",
    "'''do sharp plotting'''\n",
    "''''summary plot'''\n",
    "shap.summary_plot(shap_values,X_test,feature_names=features)\n",
    "\n",
    "''''force plot'''\n",
    "shap.initjs()\n",
    "shap.force_plot(explainer.expected_value, shap_values[0,:]  ,X_test[0,:],feature_names=features)"
   ]
  }
 ],
 "metadata": {
  "language_info": {
   "name": "python"
  }
 },
 "nbformat": 4,
 "nbformat_minor": 2
}
