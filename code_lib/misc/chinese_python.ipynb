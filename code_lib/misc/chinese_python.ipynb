{
 "cells": [
  {
   "cell_type": "code",
   "execution_count": 3,
   "id": "afebd887",
   "metadata": {},
   "outputs": [
    {
     "name": "stdout",
     "output_type": "stream",
     "text": [
      "你好世界！\n"
     ]
    }
   ],
   "source": [
    "def 你好():\n",
    "    print('你好世界！')\n",
    "\n",
    "你好()"
   ]
  },
  {
   "cell_type": "code",
   "execution_count": 4,
   "id": "49af20e3",
   "metadata": {},
   "outputs": [
    {
     "data": {
      "text/plain": [
       "30"
      ]
     },
     "execution_count": 4,
     "metadata": {},
     "output_type": "execute_result"
    }
   ],
   "source": [
    "三 = 3\n",
    "十 = 10\n",
    "\n",
    "三 * 十"
   ]
  },
  {
   "cell_type": "code",
   "execution_count": 7,
   "id": "d723b9cb",
   "metadata": {},
   "outputs": [
    {
     "name": "stdout",
     "output_type": "stream",
     "text": [
      "你好世界！\n"
     ]
    }
   ],
   "source": [
    "打印 = print\n",
    "\n",
    "打印('你好世界！')\n"
   ]
  }
 ],
 "metadata": {
  "kernelspec": {
   "display_name": "technotes",
   "language": "python",
   "name": "python3"
  },
  "language_info": {
   "codemirror_mode": {
    "name": "ipython",
    "version": 3
   },
   "file_extension": ".py",
   "mimetype": "text/x-python",
   "name": "python",
   "nbconvert_exporter": "python",
   "pygments_lexer": "ipython3",
   "version": "3.12.11"
  }
 },
 "nbformat": 4,
 "nbformat_minor": 5
}
